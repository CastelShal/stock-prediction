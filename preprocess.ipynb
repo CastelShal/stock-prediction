{
 "cells": [
  {
   "cell_type": "code",
   "execution_count": 38,
   "metadata": {},
   "outputs": [],
   "source": [
    "import pandas as pd\n",
    "import numpy as np\n",
    "import talib"
   ]
  },
  {
   "cell_type": "code",
   "execution_count": 39,
   "metadata": {},
   "outputs": [],
   "source": [
    "ohclv = pd.read_csv('data/stock.csv', index_col='Date')\n",
    "fng = pd.read_csv('data/fear_n_greed.csv', index_col='date')\n",
    "fng['fng'] = fng['fng'] * 0.5\n",
    "df = ohclv.join(fng)"
   ]
  },
  {
   "cell_type": "code",
   "execution_count": 40,
   "metadata": {},
   "outputs": [],
   "source": [
    "# price range as a percentage of the opening price.\n",
    "df['Price_Range_Pct'] = (df['High'] - df['Low']) / df['Open']\n",
    "\n",
    "# 5-day and 20-day simple moving averages of the closing price.\n",
    "df['MA_5'] = df['Close'].rolling(window=5).mean()\n",
    "df['MA_20'] = df['Close'].rolling(window=20).mean()\n",
    "\n",
    "# These can be very useful for identifying the start of new trends.\n",
    "df['MA_20'] = df['Close'].rolling(window=20).mean()\n",
    "df['Upper_BB'], df['Middle_BB'], df['Lower_BB'] = talib.BBANDS(df['Close'], timeperiod=20)\n",
    "\n",
    "# Measures the speed and change of price movements\n",
    "df['RSI'] = talib.RSI(df['Close'], timeperiod=14)\n",
    "\n",
    "# momentum indicator that shows the relationship between two moving averages \n",
    "df['MACD'], _, _ = talib.MACD(df['Close'], fastperiod=12, slowperiod=26, signalperiod=9)\n",
    "\n",
    "# OBV can be a powerful tool for confirming price trends\n",
    "df['OBV'] = talib.OBV(df['Close'], df['Volume'])\n",
    "\n",
    "# Prepare the feature matrix\n",
    "features = ['Price_Range_Pct','MA_5', 'MA_20', 'MACD', 'RSI', 'OBV', 'fng', 'Upper_BB', 'Middle_BB', 'Lower_BB']"
   ]
  },
  {
   "cell_type": "code",
   "execution_count": 41,
   "metadata": {},
   "outputs": [],
   "source": [
    "df.dropna(inplace=True)\n",
    "df = df.drop(['Open', 'Low', 'High', 'Volume', 'Adj Close'], axis=1)\n",
    "df.to_csv('data/processed.csv')"
   ]
  }
 ],
 "metadata": {
  "kernelspec": {
   "display_name": ".venv",
   "language": "python",
   "name": "python3"
  },
  "language_info": {
   "codemirror_mode": {
    "name": "ipython",
    "version": 3
   },
   "file_extension": ".py",
   "mimetype": "text/x-python",
   "name": "python",
   "nbconvert_exporter": "python",
   "pygments_lexer": "ipython3",
   "version": "3.12.3"
  }
 },
 "nbformat": 4,
 "nbformat_minor": 2
}
